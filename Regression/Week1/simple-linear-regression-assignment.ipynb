{
 "cells": [
  {
   "cell_type": "markdown",
   "metadata": {},
   "source": [
    "(1) Import Library"
   ]
  },
  {
   "cell_type": "code",
   "execution_count": 50,
   "metadata": {},
   "outputs": [],
   "source": [
    "import pandas as pd\n",
    "import matplotlib.pyplot as plt"
   ]
  },
  {
   "cell_type": "markdown",
   "metadata": {},
   "source": [
    "(2) Import test and train data with pandas and use the following types for columns"
   ]
  },
  {
   "cell_type": "code",
   "execution_count": 51,
   "metadata": {},
   "outputs": [],
   "source": [
    "dtype_dict = {'bathrooms':float, 'waterfront':int, 'sqft_above':int, 'sqft_living15':float, 'grade':int, 'yr_renovated':int, 'price':float, 'bedrooms':float, 'zipcode':str, 'long':float, 'sqft_lot15':float, 'sqft_living':float, 'floors':str, 'condition':int, 'lat':float, 'date':str, 'sqft_basement':int, 'yr_built':int, 'id':str, 'sqft_lot':int, 'view':int}\n",
    "trainData = pd.read_csv(\"kc_house_train_data.csv\", dtype=dtype_dict)\n",
    "testData = pd.read_csv(\"kc_house_test_data.csv\", dtype=dtype_dict)"
   ]
  },
  {
   "cell_type": "code",
   "execution_count": 52,
   "metadata": {},
   "outputs": [
    {
     "data": {
      "text/plain": [
       "id                object\n",
       "date              object\n",
       "price            float64\n",
       "bedrooms         float64\n",
       "bathrooms        float64\n",
       "sqft_living      float64\n",
       "sqft_lot           int32\n",
       "floors            object\n",
       "waterfront         int32\n",
       "view               int32\n",
       "condition          int32\n",
       "grade              int32\n",
       "sqft_above         int32\n",
       "sqft_basement      int32\n",
       "yr_built           int32\n",
       "yr_renovated       int32\n",
       "zipcode           object\n",
       "lat              float64\n",
       "long             float64\n",
       "sqft_living15    float64\n",
       "sqft_lot15       float64\n",
       "dtype: object"
      ]
     },
     "execution_count": 52,
     "metadata": {},
     "output_type": "execute_result"
    }
   ],
   "source": [
    "trainData.dtypes"
   ]
  },
  {
   "cell_type": "code",
   "execution_count": 53,
   "metadata": {},
   "outputs": [
    {
     "data": {
      "text/plain": [
       "id                object\n",
       "date              object\n",
       "price            float64\n",
       "bedrooms         float64\n",
       "bathrooms        float64\n",
       "sqft_living      float64\n",
       "sqft_lot           int32\n",
       "floors            object\n",
       "waterfront         int32\n",
       "view               int32\n",
       "condition          int32\n",
       "grade              int32\n",
       "sqft_above         int32\n",
       "sqft_basement      int32\n",
       "yr_built           int32\n",
       "yr_renovated       int32\n",
       "zipcode           object\n",
       "lat              float64\n",
       "long             float64\n",
       "sqft_living15    float64\n",
       "sqft_lot15       float64\n",
       "dtype: object"
      ]
     },
     "execution_count": 53,
     "metadata": {},
     "output_type": "execute_result"
    }
   ],
   "source": [
    "testData.dtypes"
   ]
  },
  {
   "cell_type": "code",
   "execution_count": 78,
   "metadata": {},
   "outputs": [],
   "source": [
    "#function for plotting\n",
    "def plot_regression_line(inputFeatures, outputs, intercept,slope,inputFeaturesLabel,outputsLabel):\n",
    "    # plotting the points as per dataset on a graph\n",
    "    plt.scatter(inputFeatures, outputs, color = \"m\",marker = \"o\", s = 5)\n",
    "    \n",
    "    # predicted responce vector\n",
    "    predictions = get_regression_predictions(inputFeatures, intercept, slope)\n",
    "    \n",
    "    # plotting the regression line\n",
    "    plt.plot(inputFeatures, predictions, color = \"g\")\n",
    "    \n",
    "    # putting lables for x and y axis\n",
    "    plt.xlabel(inputFeaturesLabel)\n",
    "    plt.ylabel(outputsLabel)\n",
    "    \n",
    "    # function to show plotted graph\n",
    "    plt.show()"
   ]
  },
  {
   "cell_type": "markdown",
   "metadata": {},
   "source": [
    "(3) I write a generic function that accepts a column of data ‘input_feature’ and another column ‘output’ and returns the Simple Linear Regression parameters ‘intercept’ and ‘slope’ with closed form solution.\n",
    "<br>\n",
    "What we need\n",
    "<br>\n",
    "The number of data points\n",
    "<br>\n",
    "The mean of the sum of the input\n",
    "<br>\n",
    "The mean of the sum of the output\n",
    "<br>\n",
    "The mean of the sum of the multiply of the input and the output\n",
    "<br>\n",
    "The mean of the sum of the input squared"
   ]
  },
  {
   "cell_type": "code",
   "execution_count": 54,
   "metadata": {},
   "outputs": [],
   "source": [
    "def simple_linear_regression(inputFeatures, outputs):\n",
    "    # The number of data points\n",
    "    dataCount = inputFeatures.count()\n",
    "    # The mean of the sum of the input\n",
    "    inputMean = inputFeatures.sum() / dataCount\n",
    "    # The mean of the sum of the output\n",
    "    outputMean = outputs.sum() / dataCount\n",
    "    # The mean of the sum of the multiply of the input and the output\n",
    "    inputOutputMean = (inputFeatures * outputs).sum() / dataCount\n",
    "    # The mean of the sum of the input squared\n",
    "    inputSquaredMean = (inputFeatures ** 2).sum() / dataCount\n",
    "    \n",
    "    numerator = (inputOutputMean) - (inputMean)*(outputMean)\n",
    "    denominator = (inputSquaredMean) - (inputMean)*(inputMean)\n",
    "    slope = numerator/denominator\n",
    "    intercept = (outputMean) - slope * (inputMean)\n",
    "    return(intercept, slope)"
   ]
  },
  {
   "cell_type": "markdown",
   "metadata": {},
   "source": [
    "(4) Use your function to calculate the estimated slope and intercept on the training data to predict ‘price’ given ‘sqft_living’."
   ]
  },
  {
   "cell_type": "code",
   "execution_count": 55,
   "metadata": {},
   "outputs": [],
   "source": [
    "sqftLivingInputFeatures = trainData['sqft_living']\n",
    "priceOutputs = trainData['price']\n",
    "sqftLivingIntercept, sqftLivingSlope = simple_linear_regression(sqftLivingInputFeatures, priceOutputs)"
   ]
  },
  {
   "cell_type": "code",
   "execution_count": 56,
   "metadata": {},
   "outputs": [
    {
     "name": "stdout",
     "output_type": "stream",
     "text": [
      "-47116.07907289488 281.95883963034294\n"
     ]
    }
   ],
   "source": [
    "print(sqftLivingIntercept,sqftLivingSlope)"
   ]
  },
  {
   "cell_type": "markdown",
   "metadata": {},
   "source": [
    "(5) Write a function that accepts a column of data ‘input_feature’, the ‘slope’, and the ‘intercept’ and returns an a column of predictions ‘predicted_output’ for each entry in the input column"
   ]
  },
  {
   "cell_type": "code",
   "execution_count": 57,
   "metadata": {},
   "outputs": [],
   "source": [
    "# Y = W0 + (W1 * X)\n",
    "def get_regression_predictions(inputFeatureCell, intercept, slope):\n",
    "    predictedOutput = intercept + (slope * inputFeatureCell)\n",
    "    return(predictedOutput)"
   ]
  },
  {
   "cell_type": "markdown",
   "metadata": {},
   "source": [
    "(6) Quiz Question: Using your Slope and Intercept from (4), What is the predicted price for a house with 2650 sqft?"
   ]
  },
  {
   "cell_type": "code",
   "execution_count": 58,
   "metadata": {},
   "outputs": [
    {
     "data": {
      "text/plain": [
       "700074.8459475139"
      ]
     },
     "execution_count": 58,
     "metadata": {},
     "output_type": "execute_result"
    }
   ],
   "source": [
    "get_regression_predictions(2650, sqftLivingIntercept, sqftLivingSlope)"
   ]
  },
  {
   "cell_type": "markdown",
   "metadata": {},
   "source": [
    "(7) Write a function that accepts column of data: ‘input_feature’, and ‘output’ and the regression parameters ‘slope’ and ‘intercept’ and outputs the Residual Sum of Squares (RSS)."
   ]
  },
  {
   "cell_type": "code",
   "execution_count": 59,
   "metadata": {},
   "outputs": [],
   "source": [
    "# N times (Y - [W0 + (W1 * X)]) ** 2\n",
    "def get_residual_sum_of_squares(inputFeatures, outputs, intercept,slope):\n",
    "    # The number of data points\n",
    "    dataCount = inputFeatures.count()\n",
    "    RSS = 0\n",
    "    for index,inputFeature in enumerate(inputFeatures):\n",
    "        RSS = RSS + ((outputs[index] - get_regression_predictions(inputFeature, intercept, slope)) ** 2)\n",
    "    return(RSS)"
   ]
  },
  {
   "cell_type": "markdown",
   "metadata": {},
   "source": [
    "(8) Quiz Question: According to this function and the slope and intercept from (4) What is the RSS for the simple linear regression using squarefeet to predict prices on TRAINING data?"
   ]
  },
  {
   "cell_type": "code",
   "execution_count": 60,
   "metadata": {},
   "outputs": [
    {
     "data": {
      "text/plain": [
       "1201918354177285.2"
      ]
     },
     "execution_count": 60,
     "metadata": {},
     "output_type": "execute_result"
    }
   ],
   "source": [
    "get_residual_sum_of_squares(sqftLivingInputFeatures, priceOutputs, sqftLivingIntercept,sqftLivingSlope)"
   ]
  },
  {
   "cell_type": "markdown",
   "metadata": {},
   "source": [
    "(9) Note that although we estimated the regression slope and intercept in order to predict the output from the input, since this is a simple linear relationship with only two variables we can invert the linear function to estimate the input given the output!\n",
    "<br>\n",
    "Write a function that accept a column of data:‘output’ and the regression parameters ‘slope’ and ‘intercept’ and outputs the column of data: ‘estimated_input’."
   ]
  },
  {
   "cell_type": "code",
   "execution_count": 61,
   "metadata": {},
   "outputs": [],
   "source": [
    "# X = (Y - W0) / W1 =\n",
    "def inverse_regression_predictions(outputCell, intercept, slope):\n",
    "    estimatedInput = (outputCell - intercept) / slope\n",
    "    return(estimatedInput)"
   ]
  },
  {
   "cell_type": "markdown",
   "metadata": {},
   "source": [
    "(10) Quiz Question: According to this function and the regression slope and intercept from (3) what is the estimated square-feet for a house costing $800,000?"
   ]
  },
  {
   "cell_type": "code",
   "execution_count": 62,
   "metadata": {},
   "outputs": [
    {
     "data": {
      "text/plain": [
       "3004.3962451522752"
      ]
     },
     "execution_count": 62,
     "metadata": {},
     "output_type": "execute_result"
    }
   ],
   "source": [
    "inverse_regression_predictions(800000, sqftLivingIntercept, sqftLivingSlope)"
   ]
  },
  {
   "cell_type": "markdown",
   "metadata": {},
   "source": [
    "(11) Instead of using ‘sqft_living’ to estimate prices we could use ‘bedrooms’ (a count of the number of bedrooms in the house) to estimate prices. Using your function from (3) calculate the Simple Linear Regression slope and intercept for estimating price based on bedrooms. Save this slope and intercept for later (you might want to call them e.g. bedroom_slope, bedroom_intercept)."
   ]
  },
  {
   "cell_type": "code",
   "execution_count": 63,
   "metadata": {},
   "outputs": [],
   "source": [
    "bedroomsInputFeatures = trainData['bedrooms']\n",
    "priceOutputs = trainData['price']\n",
    "bedroomsIntercept, bedroomsSlope = simple_linear_regression(bedroomsInputFeatures, priceOutputs)"
   ]
  },
  {
   "cell_type": "code",
   "execution_count": 64,
   "metadata": {},
   "outputs": [
    {
     "name": "stdout",
     "output_type": "stream",
     "text": [
      "109473.17762295791 127588.95293398833\n"
     ]
    }
   ],
   "source": [
    "print(bedroomsIntercept,bedroomsSlope)"
   ]
  },
  {
   "cell_type": "markdown",
   "metadata": {},
   "source": [
    "(12) Now that we have 2 different models compute the RSS from BOTH models on TEST data."
   ]
  },
  {
   "cell_type": "code",
   "execution_count": 65,
   "metadata": {},
   "outputs": [],
   "source": [
    "sqftLivingTestInputFeatures = testData['sqft_living']\n",
    "bedroomsTestInputFeatures = testData['bedrooms']\n",
    "priceTestOutputs = testData['price']\n",
    "\n",
    "sqftLivingTest_RSS = get_residual_sum_of_squares(sqftLivingTestInputFeatures, priceTestOutputs, sqftLivingIntercept,sqftLivingSlope)\n",
    "bedroomsTest_RSS = get_residual_sum_of_squares(bedroomsTestInputFeatures, priceTestOutputs, bedroomsIntercept,bedroomsSlope)"
   ]
  },
  {
   "cell_type": "code",
   "execution_count": 66,
   "metadata": {},
   "outputs": [
    {
     "name": "stdout",
     "output_type": "stream",
     "text": [
      "275402933617813.03\n",
      "493364585960301.6\n"
     ]
    }
   ],
   "source": [
    "print(sqftLivingTest_RSS)\n",
    "print(bedroomsTest_RSS)"
   ]
  },
  {
   "cell_type": "markdown",
   "metadata": {},
   "source": [
    "(13) Quiz Question: Which model (square feet or bedrooms) has lowest RSS on TEST data? Think about why this might be the case."
   ]
  },
  {
   "cell_type": "code",
   "execution_count": 79,
   "metadata": {},
   "outputs": [
    {
     "data": {
      "image/png": "[encoded data removed]",
      "text/plain": [
       "<Figure size 432x288 with 1 Axes>"
      ]
     },
     "metadata": {
      "needs_background": "light"
     },
     "output_type": "display_data"
    }
   ],
   "source": [
    "plot_regression_line(sqftLivingTestInputFeatures, priceTestOutputs, sqftLivingIntercept,sqftLivingSlope,'Sqft Living','Price')"
   ]
  },
  {
   "cell_type": "code",
   "execution_count": 80,
   "metadata": {},
   "outputs": [
    {
     "data": {
      "image/png": "[encoded data removed]",
      "text/plain": [
       "<Figure size 432x288 with 1 Axes>"
      ]
     },
     "metadata": {
      "needs_background": "light"
     },
     "output_type": "display_data"
    }
   ],
   "source": [
    "plot_regression_line(bedroomsTestInputFeatures, priceTestOutputs, bedroomsIntercept,bedroomsSlope,'Bedrooms','Price')"
   ]
  },
  {
   "cell_type": "markdown",
   "metadata": {},
   "source": [
    "To figure out why Bedroom RSS is more than Sqft Living RSS, it's better to plot them.\n",
    "<br>\n",
    "On the chart, it is clear that the number of rooms is not at all a good benchmark for house prices, and the data in a very small range has very different prices, which is why we will have a larger RSS for Bedrooms."
   ]
  }
 ],
 "metadata": {
  "kernelspec": {
   "display_name": "Python 3",
   "language": "python",
   "name": "python3"
  },
  "language_info": {
   "codemirror_mode": {
    "name": "ipython",
    "version": 3
   },
   "file_extension": ".py",
   "mimetype": "text/x-python",
   "name": "python",
   "nbconvert_exporter": "python",
   "pygments_lexer": "ipython3",
   "version": "3.7.1"
  }
 },
 "nbformat": 4,
 "nbformat_minor": 2
}
